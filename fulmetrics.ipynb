{
 "cells": [
  {
   "cell_type": "markdown",
   "metadata": {
    "colab_type": "text",
    "id": "view-in-github"
   },
   "source": [
    "<a href=\"https://colab.research.google.com/github/Ancient-Crunch/fulmetrics/blob/main/fulmetrics.ipynb\" target=\"_parent\"><img src=\"https://colab.research.google.com/assets/colab-badge.svg\" alt=\"Open In Colab\"/></a>"
   ]
  },
  {
   "cell_type": "code",
   "execution_count": null,
   "metadata": {
    "id": "tRX-v2o6h0pS"
   },
   "outputs": [],
   "source": [
    "# Setup and run everything\n",
    "print(\"Setting up...\")\n",
    "\n",
    "# Clone the public repo (remove if exists)\n",
    "!rm -rf repo 2>/dev/null\n",
    "!git clone -q https://github.com/Ancient-Crunch/fulmetrics.git repo\n",
    "%pip install -q -r repo/requirements.txt\n",
    "\n",
    "# Upload file\n",
    "from google.colab import files\n",
    "print(\"\\n📤 Please upload your ShipStation CSV file:\")\n",
    "uploaded = files.upload()\n",
    "filename = list(uploaded.keys())[0]\n",
    "\n",
    "# Run the script\n",
    "print(f\"\\n🔄 Processing {filename}...\\n\")\n",
    "!cd repo && python fulmetrics.py \"../{filename}\"\n",
    "\n",
    "# Download results\n",
    "print(\"\\n📥 Downloading results...\")\n",
    "import os\n",
    "base_name = os.path.splitext(filename)[0]\n",
    "for suffix in ['_daily_bag_summary.csv', '_overall_bag_summary.csv', '_daily_sku_summary.csv', '_overall_sku_summary.csv', '_expanded_items.csv']:\n",
    "    result_file = f'repo/{base_name}{suffix}'\n",
    "    if os.path.exists(result_file):\n",
    "        files.download(result_file)\n",
    "\n",
    "print(\"\\n✅ Complete! Check your Downloads folder.\")"
   ]
  },
  {
   "cell_type": "markdown",
   "metadata": {
    "id": "XFcL_L0nh6GA"
   },
   "source": [
    "# ShipStation Daily Metrics\n",
    "\n",
    "**Instructions:**\n",
    "1. Click the ▶️ play button below\n",
    "2. Upload your ShipStation CSV when prompted\n",
    "3. Wait for results and downloads"
   ]
  }
 ],
 "metadata": {
  "colab": {
   "authorship_tag": "ABX9TyNgUohkAlmK5Tr+dNmcXtmb",
   "include_colab_link": true,
   "provenance": []
  },
  "kernelspec": {
   "display_name": "Python 3",
   "name": "python3"
  },
  "language_info": {
   "name": "python"
  }
 },
 "nbformat": 4,
 "nbformat_minor": 0
}
