{
 "cells": [
  {
   "cell_type": "code",
   "execution_count": null,
   "metadata": {
    "vscode": {
     "languageId": "plaintext"
    }
   },
   "outputs": [],
   "source": [
    "{\n",
    "  \"nbformat\": 4,\n",
    "  \"nbformat_minor\": 0,\n",
    "  \"metadata\": {\n",
    "    \"colab\": {\n",
    "      \"name\": \"ShipStation Daily Metrics\",\n",
    "      \"provenance\": []\n",
    "    },\n",
    "    \"kernelspec\": {\n",
    "      \"name\": \"python3\",\n",
    "      \"display_name\": \"Python 3\"\n",
    "    }\n",
    "  },\n",
    "  \"cells\": [\n",
    "    {\n",
    "      \"cell_type\": \"markdown\",\n",
    "      \"metadata\": {},\n",
    "      \"source\": [\n",
    "        \"# ShipStation Daily Metrics\\n\",\n",
    "        \"\\n\",\n",
    "        \"**Instructions:**\\n\",\n",
    "        \"1. Click the ▶️ play button below\\n\",\n",
    "        \"2. Upload your ShipStation CSV when prompted\\n\",\n",
    "        \"3. Wait for results and downloads\\n\",\n",
    "        \"\\n\",\n",
    "        \"---\"\n",
    "      ]\n",
    "    },\n",
    "    {\n",
    "      \"cell_type\": \"code\",\n",
    "      \"metadata\": {},\n",
    "      \"source\": [\n",
    "        \"# Setup and run everything\\n\",\n",
    "        \"print(\\\"Setting up...\\\")\\n\",\n",
    "        \"\\n\",\n",
    "        \"# Clone repo and install packages\\n\",\n",
    "        \"!git clone -q https://github.com/YOUR_USERNAME/YOUR_REPO_NAME.git repo\\n\",\n",
    "        \"!pip install -q -r repo/requirements.txt\\n\",\n",
    "        \"\\n\",\n",
    "        \"# Upload file\\n\",\n",
    "        \"from google.colab import files\\n\",\n",
    "        \"print(\\\"\\\\n📤 Please upload your ShipStation CSV file:\\\")\\n\",\n",
    "        \"uploaded = files.upload()\\n\",\n",
    "        \"filename = list(uploaded.keys())[0]\\n\",\n",
    "        \"\\n\",\n",
    "        \"# Run the script\\n\",\n",
    "        \"print(f\\\"\\\\n🔄 Processing {filename}...\\\\n\\\")\\n\",\n",
    "        \"!cd repo && python shipstation_metrics.py \\\"../{filename}\\\"\\n\",\n",
    "        \"\\n\",\n",
    "        \"# Download results\\n\",\n",
    "        \"print(\\\"\\\\n📥 Downloading results...\\\")\\n\",\n",
    "        \"import os\\n\",\n",
    "        \"base_name = os.path.splitext(filename)[0]\\n\",\n",
    "        \"for suffix in ['_daily_bag_summary.csv', '_overall_bag_summary.csv', '_daily_sku_summary.csv', '_overall_sku_summary.csv', '_expanded_items.csv']:\\n\",\n",
    "        \"    result_file = f'repo/{base_name}{suffix}'\\n\",\n",
    "        \"    if os.path.exists(result_file):\\n\",\n",
    "        \"        files.download(result_file)\\n\",\n",
    "        \"\\n\",\n",
    "        \"print(\\\"\\\\n✅ Complete! Check your Downloads folder.\\\")\"\n",
    "      ],\n",
    "      \"execution_count\": null,\n",
    "      \"outputs\": []\n",
    "    }\n",
    "  ]\n",
    "}"
   ]
  }
 ],
 "metadata": {
  "language_info": {
   "name": "python"
  }
 },
 "nbformat": 4,
 "nbformat_minor": 2
}
